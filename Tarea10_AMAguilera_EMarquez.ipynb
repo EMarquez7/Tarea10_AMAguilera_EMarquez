{
 "cells": [
  {
   "cell_type": "markdown",
   "id": "e97e984a",
   "metadata": {},
   "source": [
    "<img style=\"float: left; margin: 30px 15px 15px 15px;\" src=\"https://pngimage.net/wp-content/uploads/2018/06/logo-iteso-png-5.png\" width=\"300\" height=\"300\" /> \n",
    "    \n",
    "    \n",
    "### <font color='navy'> Simulación de procesos financieros. \n",
    "\n",
    "**Nombres:**Ana María Aguilera Gómez y Esteban Márquez Delgado\n",
    "\n",
    "**Fecha:** 27 de noviembre del 2021.\n",
    "   \n",
    "**Expedientes:** \n",
    "- Ana María Aguilera Gómez: 720567 \n",
    "- Esteban Márquez Delgado: 700637 \n",
    "    \n",
    "**Profesor:** Oscar David Jaramillo Zuluaga.\n",
    "    \n",
    "**Link Github:**   https://github.com/EMarquez7/Tarea10_AMAguilera_EMarquez"
   ]
  },
  {
   "cell_type": "markdown",
   "id": "5a29ff10",
   "metadata": {},
   "source": [
    "# Tarea\n",
    "Realizar la valuación de las opciones barrera para las acciones de Microsoft, siguiendo los siguientes lineamientos:\n",
    "1. Realizar la valuación para el tipo de opción barrera 'CALL'- down-and-out, usando la suposición de rendimientos normales y usando el método del histograma. Para ambas valuaciones, comparar los resultados de la evaluación obtenida con los resultados obtenidos por la valuación Europea. Como se realizó en clase.\n",
    "2. Repetir el inciso anterior pero en esta ocasión para el caso de 'PUT'- Up-and-out.\n",
    "\n",
    "**Nota:** Analice los datos descargados y según el método ya sea `down-and-out` o `Up-and-out` defina un strike price usando la volatility smile vista en la clase de opciones europeas y basado en el spot price y el strike defina una barrera adecuada.\n",
    "\n",
    "> Se calificará de acuerdo a los resultados finales que reportes, basados en tu análisis."
   ]
  },
  {
   "cell_type": "markdown",
   "id": "7b4a72fd",
   "metadata": {},
   "source": [
    "#### Código de solución `ESTUDIANTE 1: Ana María Aguilera`"
   ]
  },
  {
   "cell_type": "code",
   "execution_count": 232,
   "id": "c1e6a240",
   "metadata": {},
   "outputs": [],
   "source": [
    "#importar los paquetes que se van a usar\n",
    "import pandas as pd\n",
    "import pandas_datareader.data as web\n",
    "import numpy as np\n",
    "from sklearn.neighbors import KernelDensity\n",
    "import datetime\n",
    "from datetime import datetime, timedelta\n",
    "import scipy.stats as st\n",
    "import scipy as sp\n",
    "import scipy.optimize as optimize\n",
    "import scipy.cluster.hierarchy as hac\n",
    "import matplotlib.pyplot as plt\n",
    "import seaborn as sns\n",
    "%matplotlib inline\n",
    "#algunas opciones para Python\n",
    "pd.set_option('display.notebook_repr_html', True)\n",
    "pd.set_option('display.max_columns', 6)\n",
    "pd.set_option('display.max_rows', 10)\n",
    "pd.set_option('display.width', 78)\n",
    "pd.set_option('precision', 3)"
   ]
  },
  {
   "cell_type": "code",
   "execution_count": 370,
   "id": "df184f9c",
   "metadata": {},
   "outputs": [],
   "source": [
    "# Función para descargar precios de cierre ajustados:\n",
    "def get_adj_closes(tickers, start_date=None, end_date=None):\n",
    "    # Fecha inicio por defecto (start_date='2010-01-01') y fecha fin por defecto (end_date=today)\n",
    "    # Descargamos DataFrame con todos los datos\n",
    "    closes = web.DataReader(name=tickers, data_source='yahoo', start=start_date, end=end_date)\n",
    "    # Solo necesitamos los precios ajustados en el cierre\n",
    "    closes = closes['Adj Close']\n",
    "    # Se ordenan los índices de manera ascendente\n",
    "    closes.sort_index(inplace=True)\n",
    "    return closes\n",
    "\n",
    "####### Calculation of log-returns\n",
    "def calc_daily_ret(closes):\n",
    "    return np.log(closes/closes.shift(1)).dropna()"
   ]
  },
  {
   "cell_type": "code",
   "execution_count": 371,
   "id": "a985886f",
   "metadata": {},
   "outputs": [
    {
     "data": {
      "text/plain": [
       "Date\n",
       "2017-01-03     58.186\n",
       "2017-01-04     57.925\n",
       "2017-01-05     57.925\n",
       "2017-01-06     58.427\n",
       "2017-01-09     58.241\n",
       "               ...   \n",
       "2021-11-19    343.110\n",
       "2021-11-22    339.830\n",
       "2021-11-23    337.680\n",
       "2021-11-24    337.910\n",
       "2021-11-26    329.680\n",
       "Name: MSFT, Length: 1235, dtype: float64"
      ]
     },
     "execution_count": 371,
     "metadata": {},
     "output_type": "execute_result"
    }
   ],
   "source": [
    "closes = get_adj_closes(['MSFT'], '2017-01-01')\n",
    "closes_m = closes.loc[:,'MSFT']\n",
    "closes_m"
   ]
  },
  {
   "cell_type": "code",
   "execution_count": 372,
   "id": "8c8aba89",
   "metadata": {},
   "outputs": [],
   "source": [
    "# calcular rendimientos\n",
    "ret_m = calc_daily_ret(closes_m)"
   ]
  },
  {
   "cell_type": "code",
   "execution_count": 373,
   "id": "f99f5946",
   "metadata": {},
   "outputs": [],
   "source": [
    "# descargar opciones\n",
    "import yfinance as yf\n",
    "\n",
    "def options_yf(ticker : \"Ticker en formato string\"):\n",
    "    \"\"\"\n",
    "    options_yf descarga información de opciones financieras con ayuda de yfinance\n",
    "    \n",
    "    *ticker : es el símbolo de cotización de la acción\n",
    "    \"\"\"\n",
    "    stock = yf.Ticker(ticker)\n",
    "    calls, puts = stock.option_chain(stock.options[0]) \n",
    "    return calls, puts\n",
    "\n",
    "c, p = options_yf(\"MSFT\")"
   ]
  },
  {
   "cell_type": "markdown",
   "id": "46460c73",
   "metadata": {},
   "source": [
    "## 1. CALL (DOWN & OUT)\n",
    "\n",
    "### Simulación con la suposición de rendimientos normales:"
   ]
  },
  {
   "cell_type": "code",
   "execution_count": 374,
   "id": "a54a2f51",
   "metadata": {},
   "outputs": [
    {
     "data": {
      "text/html": [
       "<div>\n",
       "<style scoped>\n",
       "    .dataframe tbody tr th:only-of-type {\n",
       "        vertical-align: middle;\n",
       "    }\n",
       "\n",
       "    .dataframe tbody tr th {\n",
       "        vertical-align: top;\n",
       "    }\n",
       "\n",
       "    .dataframe thead th {\n",
       "        text-align: right;\n",
       "    }\n",
       "</style>\n",
       "<table border=\"1\" class=\"dataframe\">\n",
       "  <thead>\n",
       "    <tr style=\"text-align: right;\">\n",
       "      <th></th>\n",
       "      <th>contractSymbol</th>\n",
       "      <th>lastTradeDate</th>\n",
       "      <th>strike</th>\n",
       "      <th>...</th>\n",
       "      <th>inTheMoney</th>\n",
       "      <th>contractSize</th>\n",
       "      <th>currency</th>\n",
       "    </tr>\n",
       "  </thead>\n",
       "  <tbody>\n",
       "    <tr>\n",
       "      <th>25</th>\n",
       "      <td>MSFT211203C00330000</td>\n",
       "      <td>2021-11-26 17:59:48</td>\n",
       "      <td>330.0</td>\n",
       "      <td>...</td>\n",
       "      <td>False</td>\n",
       "      <td>REGULAR</td>\n",
       "      <td>USD</td>\n",
       "    </tr>\n",
       "  </tbody>\n",
       "</table>\n",
       "<p>1 rows × 14 columns</p>\n",
       "</div>"
      ],
      "text/plain": [
       "         contractSymbol       lastTradeDate  strike  ...  inTheMoney  \\\n",
       "25  MSFT211203C00330000 2021-11-26 17:59:48   330.0  ...       False   \n",
       "\n",
       "    contractSize  currency  \n",
       "25       REGULAR       USD  \n",
       "\n",
       "[1 rows x 14 columns]"
      ]
     },
     "execution_count": 374,
     "metadata": {},
     "output_type": "execute_result"
    }
   ],
   "source": [
    "# opción que deseamos valuar\n",
    "\n",
    "K = 330 # strike price\n",
    "opt_deseada = c.loc[(c.strike==K)]\n",
    "opt_deseada"
   ]
  },
  {
   "cell_type": "code",
   "execution_count": 375,
   "id": "4235e9ec",
   "metadata": {},
   "outputs": [
    {
     "data": {
      "text/plain": [
       "contractSymbol       MSFT211203C00330000\n",
       "lastTradeDate        2021-11-26 17:59:48\n",
       "strike                             330.0\n",
       "lastPrice                            5.1\n",
       "bid                                  5.0\n",
       "                            ...         \n",
       "openInterest                        3995\n",
       "impliedVolatility                  0.305\n",
       "inTheMoney                         False\n",
       "contractSize                     REGULAR\n",
       "currency                             USD\n",
       "Name: 25, Length: 14, dtype: object"
      ]
     },
     "execution_count": 375,
     "metadata": {},
     "output_type": "execute_result"
    }
   ],
   "source": [
    "#Información de la opción\n",
    "opt_valuar = opt_deseada.loc[list(opt_deseada.index)[0]]\n",
    "opt_valuar"
   ]
  },
  {
   "cell_type": "code",
   "execution_count": 376,
   "id": "7c865a0d",
   "metadata": {},
   "outputs": [
    {
     "data": {
      "text/plain": [
       "(0.0014055802276222722, 0.01733517852593744, 5.833333333333333e-06)"
      ]
     },
     "execution_count": 376,
     "metadata": {},
     "output_type": "execute_result"
    }
   ],
   "source": [
    "mu = ret_m.mean()\n",
    "sigma = ret_m.std()\n",
    "r = 0.0021/360\n",
    "mu, sigma, r"
   ]
  },
  {
   "cell_type": "code",
   "execution_count": 377,
   "id": "7afa4135",
   "metadata": {},
   "outputs": [],
   "source": [
    "# DATOS PARA LAS SIMULACIONES\n",
    "from datetime import date\n",
    "\n",
    "# Datos de la opción y del día de actual\n",
    "today = pd.Timestamp(date.today())\n",
    "\n",
    "# Por el contractSymbol se sabe que expira el 03 de diciembre del 2021. \n",
    "# Lo comprobé buscándolo en Yahoo Finance.\n",
    "expiry = '2021-12-03'\n",
    "\n",
    "# Fechas desde el día de hoy hasta la fecha de cierre del contrato (considerando unicamente los días hábiles)\n",
    "dates = pd.date_range(start=today, end=expiry, freq='B')\n",
    "\n",
    "# Cantidad de escenarios a simular para el método de montecarlo\n",
    "ndays = len(dates)\n",
    "nscen = 10000"
   ]
  },
  {
   "cell_type": "code",
   "execution_count": 378,
   "id": "571d0904",
   "metadata": {},
   "outputs": [],
   "source": [
    "# Simulación rendimientos normales\n",
    "S0 = closes_m.iloc[-1]\n",
    "sim_ret = pd.DataFrame(sigma*np.random.randn(ndays,nscen)+r,index=dates)\n",
    "sim_closes = S0*np.exp(sim_ret.cumsum())"
   ]
  },
  {
   "cell_type": "code",
   "execution_count": 379,
   "id": "7e579561",
   "metadata": {},
   "outputs": [
    {
     "data": {
      "image/png": "[encoded data removed]",
      "text/plain": [
       "<Figure size 432x288 with 1 Axes>"
      ]
     },
     "metadata": {
      "needs_background": "light"
     },
     "output_type": "display_data"
    }
   ],
   "source": [
    "# Definir barrera\n",
    "B = 320\n",
    "# Crear función indicadora KNOCK-OUT\n",
    "I = (sim_closes < B).cumsum(axis=0)  == 0\n",
    "# Definir strike\n",
    "strike = K\n",
    "# Calcular la prima de una opción Europea\n",
    "call = pd.DataFrame({'Prima Europea':np.exp(-r*ndays)*np.fmax(sim_closes - strike, 0)\n",
    "                     .mean(axis=1)},index=dates)\n",
    "# Calcular la prima de una opción barrera\n",
    "callui = pd.DataFrame({'Prima down-and-out':np.exp(-r*ndays)*(I * np.fmax(sim_closes - strike, 0))\n",
    "                       .mean(axis=1)},index=dates)\n",
    "# Graficar el resultado de las dos primas previamente caluadas\n",
    "ax = callui.plot();\n",
    "call.plot(ax=ax);"
   ]
  },
  {
   "cell_type": "code",
   "execution_count": 380,
   "id": "07ac4ba8",
   "metadata": {},
   "outputs": [
    {
     "data": {
      "text/plain": [
       "Prima Europea    5.066\n",
       "Name: 2021-12-03 00:00:00, dtype: float64"
      ]
     },
     "execution_count": 380,
     "metadata": {},
     "output_type": "execute_result"
    }
   ],
   "source": [
    "call.iloc[-1]"
   ]
  },
  {
   "cell_type": "code",
   "execution_count": 381,
   "id": "9e55065e",
   "metadata": {},
   "outputs": [
    {
     "name": "stdout",
     "output_type": "stream",
     "text": [
      "(array([4.81449959]), array([5.31708246]))\n"
     ]
    }
   ],
   "source": [
    "# intervalo de confianza EUROPEA\n",
    "confianza = 0.95\n",
    "sigma_est = sim_closes.iloc[-1].sem()\n",
    "mean_est = call.iloc[-1]\n",
    "#i1 = st.t.interval(confianza,nscen-1, loc=mean_est, scale=sigma_est)\n",
    "i2 = st.norm.interval(confianza, loc=mean_est, scale=sigma_est)\n",
    "print(i2)"
   ]
  },
  {
   "cell_type": "code",
   "execution_count": 385,
   "id": "26032086",
   "metadata": {},
   "outputs": [
    {
     "data": {
      "text/plain": [
       "5.1"
      ]
     },
     "execution_count": 385,
     "metadata": {},
     "output_type": "execute_result"
    }
   ],
   "source": [
    "#VALOR REAL\n",
    "opt_valuar.lastPrice"
   ]
  },
  {
   "cell_type": "markdown",
   "id": "559a1cd8",
   "metadata": {},
   "source": [
    "**Se observa que el valor real de la opción que estoy valuando se encuentra dentro del intervalo de confianza, por lo tanto los resultado obtenidos son muy confiables.**"
   ]
  },
  {
   "cell_type": "code",
   "execution_count": 386,
   "id": "d6698f11",
   "metadata": {},
   "outputs": [
    {
     "data": {
      "text/plain": [
       "Prima down-and-out    4.973\n",
       "Name: 2021-12-03 00:00:00, dtype: float64"
      ]
     },
     "execution_count": 386,
     "metadata": {},
     "output_type": "execute_result"
    }
   ],
   "source": [
    "callui.iloc[-1]"
   ]
  },
  {
   "cell_type": "code",
   "execution_count": 387,
   "id": "0f297425",
   "metadata": {},
   "outputs": [
    {
     "name": "stdout",
     "output_type": "stream",
     "text": [
      "(array([4.72139878]), array([5.22398165]))\n"
     ]
    }
   ],
   "source": [
    "# intervalo de confianza BARRERA\n",
    "confianza = 0.95\n",
    "sigma_est = sim_closes.iloc[-1].sem()\n",
    "mean_est = callui.iloc[-1]\n",
    "# i1 = st.t.interval(confianza,nscen-1, loc=mean_est, scale=sigma_est)\n",
    "i2 = st.norm.interval(confianza, loc=mean_est, scale=sigma_est)\n",
    "print(i2)"
   ]
  },
  {
   "cell_type": "markdown",
   "id": "e5aac4e6",
   "metadata": {},
   "source": [
    "**Se observa que el valor real de la opción que estoy valuando se encuentra dentro del intervalo de confianza, por lo tanto los resultado obtenidos son muy confiables.**\n",
    "\n",
    "Además, se puede observar que la prima de la opción barrera es más ligeramente más barata que la prima de una opción europea. "
   ]
  },
  {
   "cell_type": "markdown",
   "id": "41a07d22",
   "metadata": {},
   "source": [
    "### Usando el método del histograma:"
   ]
  },
  {
   "cell_type": "code",
   "execution_count": 388,
   "id": "0c55a7e5",
   "metadata": {},
   "outputs": [],
   "source": [
    "# Centro mis datos en mi tasa libre de riesgo\n",
    "freq, values = np.histogram(ret_m-mu+r, bins=10000)\n",
    "# freq = freq.astype('float32')\n",
    "prob = freq/np.sum(freq)"
   ]
  },
  {
   "cell_type": "code",
   "execution_count": 389,
   "id": "adb2e280",
   "metadata": {},
   "outputs": [
    {
     "data": {
      "image/png": "[encoded data removed]",
      "text/plain": [
       "<Figure size 432x288 with 1 Axes>"
      ]
     },
     "metadata": {
      "needs_background": "light"
     },
     "output_type": "display_data"
    }
   ],
   "source": [
    "# simulación método histograma\n",
    "ret = np.random.choice(values[1:], (ndays,nscen), p=prob)\n",
    "sim_ret_hist = pd.DataFrame(ret, index=dates)\n",
    "sim_closes_hist = S0*np.exp(sim_ret_hist.cumsum())\n",
    "\n",
    "strike = pd.DataFrame(K*np.ones([ndays,nscen]),index=dates)\n",
    "call_hist=pd.DataFrame({'Prima':np.exp(-r*ndays)*np.fmax(sim_closes_hist-strike,np.zeros([ndays,nscen])).T.mean()},index=dates)\n",
    "call_hist.plot();"
   ]
  },
  {
   "cell_type": "code",
   "execution_count": 390,
   "id": "456452cc",
   "metadata": {},
   "outputs": [
    {
     "data": {
      "image/png": "[encoded data removed]",
      "text/plain": [
       "<Figure size 432x288 with 1 Axes>"
      ]
     },
     "metadata": {
      "needs_background": "light"
     },
     "output_type": "display_data"
    }
   ],
   "source": [
    "# Definir barrera\n",
    "B = 320\n",
    "# Crear función indicadora KNOCK OUT\n",
    "I = (sim_closes < B).cumsum(axis=0)  == 0\n",
    "# Definir strike\n",
    "strike = K\n",
    "# Calcular la prima de una opción Europea\n",
    "call = pd.DataFrame({'Prima Europea':np.exp(-r*ndays)*np.fmax(sim_closes_hist - strike, 0)\n",
    "                     .mean(axis=1)},index=dates)\n",
    "# Calcular la prima de una opción barrera\n",
    "callui = pd.DataFrame({'Prima Down-and-out':np.exp(-r*ndays)*(I * np.fmax(sim_closes_hist - strike, 0))\n",
    "                       .mean(axis=1)},index=dates)\n",
    "# Graficar el resultado de las dos primas previamente valuadas\n",
    "ax = callui.plot();\n",
    "call.plot(ax=ax);"
   ]
  },
  {
   "cell_type": "code",
   "execution_count": 391,
   "id": "62624ba5",
   "metadata": {},
   "outputs": [
    {
     "data": {
      "text/plain": [
       "Prima Europea    4.816\n",
       "Name: 2021-12-03 00:00:00, dtype: float64"
      ]
     },
     "execution_count": 391,
     "metadata": {},
     "output_type": "execute_result"
    }
   ],
   "source": [
    "call.iloc[-1]"
   ]
  },
  {
   "cell_type": "code",
   "execution_count": 392,
   "id": "a7add4b8",
   "metadata": {},
   "outputs": [
    {
     "data": {
      "text/plain": [
       "5.1"
      ]
     },
     "execution_count": 392,
     "metadata": {},
     "output_type": "execute_result"
    }
   ],
   "source": [
    "# VALOR REAL\n",
    "opt_valuar.lastPrice"
   ]
  },
  {
   "cell_type": "code",
   "execution_count": 393,
   "id": "ddf72bf1",
   "metadata": {},
   "outputs": [
    {
     "name": "stdout",
     "output_type": "stream",
     "text": [
      "(array([4.56041594]), array([5.0712948]))\n"
     ]
    }
   ],
   "source": [
    "# intervalo de confianza EUROPEA\n",
    "confianza = 0.95\n",
    "sigma_est = sim_closes_hist.iloc[-1].sem()\n",
    "mean_est = call.iloc[-1]\n",
    "# i1 = st.t.interval(confianza,nscen-1, loc=mean_est, scale=sigma_est)\n",
    "i2 = st.norm.interval(confianza, loc=mean_est, scale=sigma_est)\n",
    "print(i2)"
   ]
  },
  {
   "cell_type": "markdown",
   "id": "36fa9db3",
   "metadata": {},
   "source": [
    "**Se observa que el valor real de la opción que estoy valuando se encuentra dentro del intervalo de confianza, por lo tanto los resultado obtenidos son muy confiables.**"
   ]
  },
  {
   "cell_type": "code",
   "execution_count": 394,
   "id": "2c968aba",
   "metadata": {},
   "outputs": [
    {
     "data": {
      "text/plain": [
       "Prima Down-and-out    3.243\n",
       "Name: 2021-12-03 00:00:00, dtype: float64"
      ]
     },
     "execution_count": 394,
     "metadata": {},
     "output_type": "execute_result"
    }
   ],
   "source": [
    "callui.iloc[-1]"
   ]
  },
  {
   "cell_type": "code",
   "execution_count": 395,
   "id": "602794ae",
   "metadata": {},
   "outputs": [
    {
     "name": "stdout",
     "output_type": "stream",
     "text": [
      "(array([2.98748191]), array([3.49836077]))\n"
     ]
    }
   ],
   "source": [
    "# intervalo de confianza BARRERA UP AND IN\n",
    "confianza = 0.95\n",
    "sigma_est = sim_closes_hist.iloc[-1].sem()\n",
    "mean_est = callui.iloc[-1]\n",
    "# i1 = st.t.interval(confianza,nscen-1, loc=mean_est, scale=sigma_est)\n",
    "i2 = st.norm.interval(confianza, loc=mean_est, scale=sigma_est)\n",
    "print(i2)"
   ]
  },
  {
   "cell_type": "markdown",
   "id": "861a3110",
   "metadata": {},
   "source": [
    "**Se observa que el valor real de la opción que estoy valuando se encuentra muy cerca del intervalo de confianza, por lo tanto los resultado obtenidos son muy confiables.**\n",
    "\n",
    "Además, se puede observar que la prima de la opción barrera es más barata que la prima de una opción europea. \n",
    "\n",
    "Por último, comparando los dos métodos, se observa que el de **rendimientos normales** estuvo un poco más cerca del valor real que el método de histograma, aunque ambos métodos cumplen con un intervalo de confianza muy bueno."
   ]
  },
  {
   "cell_type": "markdown",
   "id": "9c778df6",
   "metadata": {},
   "source": [
    "## 2. PUT (UP & OUT)\n",
    "\n",
    "### Usando la suposición de rendimientos normales:"
   ]
  },
  {
   "cell_type": "code",
   "execution_count": 398,
   "id": "040950d8",
   "metadata": {},
   "outputs": [
    {
     "data": {
      "text/html": [
       "<div>\n",
       "<style scoped>\n",
       "    .dataframe tbody tr th:only-of-type {\n",
       "        vertical-align: middle;\n",
       "    }\n",
       "\n",
       "    .dataframe tbody tr th {\n",
       "        vertical-align: top;\n",
       "    }\n",
       "\n",
       "    .dataframe thead th {\n",
       "        text-align: right;\n",
       "    }\n",
       "</style>\n",
       "<table border=\"1\" class=\"dataframe\">\n",
       "  <thead>\n",
       "    <tr style=\"text-align: right;\">\n",
       "      <th></th>\n",
       "      <th>contractSymbol</th>\n",
       "      <th>lastTradeDate</th>\n",
       "      <th>strike</th>\n",
       "      <th>...</th>\n",
       "      <th>inTheMoney</th>\n",
       "      <th>contractSize</th>\n",
       "      <th>currency</th>\n",
       "    </tr>\n",
       "  </thead>\n",
       "  <tbody>\n",
       "    <tr>\n",
       "      <th>21</th>\n",
       "      <td>MSFT211203P00320000</td>\n",
       "      <td>2021-11-26 17:59:38</td>\n",
       "      <td>320.0</td>\n",
       "      <td>...</td>\n",
       "      <td>False</td>\n",
       "      <td>REGULAR</td>\n",
       "      <td>USD</td>\n",
       "    </tr>\n",
       "  </tbody>\n",
       "</table>\n",
       "<p>1 rows × 14 columns</p>\n",
       "</div>"
      ],
      "text/plain": [
       "         contractSymbol       lastTradeDate  strike  ...  inTheMoney  \\\n",
       "21  MSFT211203P00320000 2021-11-26 17:59:38   320.0  ...       False   \n",
       "\n",
       "    contractSize  currency  \n",
       "21       REGULAR       USD  \n",
       "\n",
       "[1 rows x 14 columns]"
      ]
     },
     "execution_count": 398,
     "metadata": {},
     "output_type": "execute_result"
    }
   ],
   "source": [
    "# opción que deseamos valuar\n",
    "\n",
    "K = 320 # strike price\n",
    "opt_deseada = p.loc[(p.strike==K)]\n",
    "opt_deseada"
   ]
  },
  {
   "cell_type": "code",
   "execution_count": 399,
   "id": "370e899c",
   "metadata": {},
   "outputs": [
    {
     "data": {
      "text/plain": [
       "contractSymbol       MSFT211203P00320000\n",
       "lastTradeDate        2021-11-26 17:59:38\n",
       "strike                             320.0\n",
       "lastPrice                           2.21\n",
       "bid                                 2.12\n",
       "                            ...         \n",
       "openInterest                       15692\n",
       "impliedVolatility                  0.336\n",
       "inTheMoney                         False\n",
       "contractSize                     REGULAR\n",
       "currency                             USD\n",
       "Name: 21, Length: 14, dtype: object"
      ]
     },
     "execution_count": 399,
     "metadata": {},
     "output_type": "execute_result"
    }
   ],
   "source": [
    "#Información de la opción\n",
    "opt_valuar = opt_deseada.loc[list(opt_deseada.index)[0]]\n",
    "opt_valuar"
   ]
  },
  {
   "cell_type": "code",
   "execution_count": 400,
   "id": "bd5aa13a",
   "metadata": {},
   "outputs": [],
   "source": [
    "# DATOS PARA LAS SIMULACIONES\n",
    "from datetime import date\n",
    "\n",
    "# Datos de la opción y del día de actual\n",
    "today = pd.Timestamp(date.today())\n",
    "\n",
    "# Por el contractSymbol se sabe que expira el 03 de diciembre del 2021. \n",
    "# Lo comprobé buscándolo en Yahoo Finance.\n",
    "expiry = '2021-12-03'\n",
    "\n",
    "# Fechas desde el día de hoy hasta la fecha de cierre del contrato (considerando unicamente los días hábiles)\n",
    "dates = pd.date_range(start=today, end=expiry, freq='B')\n",
    "\n",
    "# Cantidad de escenarios a simular para el método de montecarlo\n",
    "ndays = len(dates)\n",
    "nscen = 10000"
   ]
  },
  {
   "cell_type": "code",
   "execution_count": 401,
   "id": "f69207f4",
   "metadata": {},
   "outputs": [],
   "source": [
    "# Simulación rendimientos normales\n",
    "S0 = closes_m.iloc[-1]\n",
    "sim_ret = pd.DataFrame(sigma*np.random.randn(ndays,nscen)+r,index=dates)\n",
    "sim_closes = S0*np.exp(sim_ret.cumsum())"
   ]
  },
  {
   "cell_type": "code",
   "execution_count": 402,
   "id": "cfac1d6d",
   "metadata": {},
   "outputs": [
    {
     "data": {
      "image/png": "[encoded data removed]",
      "text/plain": [
       "<Figure size 432x288 with 1 Axes>"
      ]
     },
     "metadata": {
      "needs_background": "light"
     },
     "output_type": "display_data"
    }
   ],
   "source": [
    "# Definir barrera\n",
    "B = 300\n",
    "# Crear función indicadora KNOCK-OUT\n",
    "I = (sim_closes < B).cumsum(axis=0)  == 0\n",
    "# Definir strike\n",
    "strike = K\n",
    "# Calcular la prima de una opción Europea\n",
    "put = pd.DataFrame({'Prima Europea':np.exp(-r*ndays)*np.fmax(strike - sim_closes, 0)\n",
    "                     .mean(axis=1)},index=dates)\n",
    "# Calcular la prima de una opción barrera\n",
    "putui = pd.DataFrame({'Prima up-and-out':np.exp(-r*ndays)*(I * np.fmax(strike - sim_closes, 0))\n",
    "                       .mean(axis=1)},index=dates)\n",
    "# Graficar el resultado de las dos primas previamente caluadas\n",
    "ax = putui.plot();\n",
    "put.plot(ax=ax);"
   ]
  },
  {
   "cell_type": "code",
   "execution_count": 403,
   "id": "e224a0ea",
   "metadata": {},
   "outputs": [
    {
     "data": {
      "text/plain": [
       "Prima Europea    1.477\n",
       "Name: 2021-12-03 00:00:00, dtype: float64"
      ]
     },
     "execution_count": 403,
     "metadata": {},
     "output_type": "execute_result"
    }
   ],
   "source": [
    "put.iloc[-1]"
   ]
  },
  {
   "cell_type": "code",
   "execution_count": 404,
   "id": "3366949a",
   "metadata": {},
   "outputs": [
    {
     "name": "stdout",
     "output_type": "stream",
     "text": [
      "(array([1.2288556]), array([1.72447219]))\n"
     ]
    }
   ],
   "source": [
    "# intervalo de confianza EUROPEA\n",
    "confianza = 0.95\n",
    "sigma_est = sim_closes.iloc[-1].sem()\n",
    "mean_est = put.iloc[-1]\n",
    "#i1 = st.t.interval(confianza,nscen-1, loc=mean_est, scale=sigma_est)\n",
    "i2 = st.norm.interval(confianza, loc=mean_est, scale=sigma_est)\n",
    "print(i2)"
   ]
  },
  {
   "cell_type": "code",
   "execution_count": 405,
   "id": "ef813e5d",
   "metadata": {},
   "outputs": [
    {
     "data": {
      "text/plain": [
       "2.21"
      ]
     },
     "execution_count": 405,
     "metadata": {},
     "output_type": "execute_result"
    }
   ],
   "source": [
    "#VALOR REAL\n",
    "opt_valuar.lastPrice"
   ]
  },
  {
   "cell_type": "markdown",
   "id": "0812d3fc",
   "metadata": {},
   "source": [
    "**Se observa que el valor real de la opción que estoy valuando se encuentra cerca del intervalo de confianza (aunque no tanto).**"
   ]
  },
  {
   "cell_type": "code",
   "execution_count": 406,
   "id": "158f136b",
   "metadata": {},
   "outputs": [
    {
     "data": {
      "text/plain": [
       "Prima up-and-out    1.292\n",
       "Name: 2021-12-03 00:00:00, dtype: float64"
      ]
     },
     "execution_count": 406,
     "metadata": {},
     "output_type": "execute_result"
    }
   ],
   "source": [
    "putui.iloc[-1]"
   ]
  },
  {
   "cell_type": "code",
   "execution_count": 407,
   "id": "6a998c07",
   "metadata": {},
   "outputs": [
    {
     "name": "stdout",
     "output_type": "stream",
     "text": [
      "(array([1.04406497]), array([1.53968156]))\n"
     ]
    }
   ],
   "source": [
    "# intervalo de confianza EUROPEA\n",
    "confianza = 0.95\n",
    "sigma_est = sim_closes.iloc[-1].sem()\n",
    "mean_est = putui.iloc[-1]\n",
    "#i1 = st.t.interval(confianza,nscen-1, loc=mean_est, scale=sigma_est)\n",
    "i2 = st.norm.interval(confianza, loc=mean_est, scale=sigma_est)\n",
    "print(i2)"
   ]
  },
  {
   "cell_type": "markdown",
   "id": "b811b958",
   "metadata": {},
   "source": [
    "**Se observa que el valor real de la opción que estoy valuando se encuentra cerca del intervalo de confianza (aunque no tanto).**\n",
    "\n",
    "Además, se puede observar que la prima de la opción barrera es más barata que la prima de una opción europea. "
   ]
  },
  {
   "cell_type": "markdown",
   "id": "5caf1eda",
   "metadata": {},
   "source": [
    "### Usando el método del histograma:\n"
   ]
  },
  {
   "cell_type": "code",
   "execution_count": 408,
   "id": "4079418b",
   "metadata": {},
   "outputs": [],
   "source": [
    "# Centro mis datos en mi tasa libre de riesgo\n",
    "freq, values = np.histogram(ret_m-mu+r, bins=10000)\n",
    "# freq = freq.astype('float32')\n",
    "prob = freq/np.sum(freq)"
   ]
  },
  {
   "cell_type": "code",
   "execution_count": 409,
   "id": "b71fa991",
   "metadata": {},
   "outputs": [
    {
     "data": {
      "image/png": "[encoded data removed]",
      "text/plain": [
       "<Figure size 432x288 with 1 Axes>"
      ]
     },
     "metadata": {
      "needs_background": "light"
     },
     "output_type": "display_data"
    }
   ],
   "source": [
    "# simulación método histograma\n",
    "ret = np.random.choice(values[1:], (ndays,nscen), p=prob)\n",
    "sim_ret_hist = pd.DataFrame(ret, index=dates)\n",
    "sim_closes_hist = S0*np.exp(sim_ret_hist.cumsum())\n",
    "\n",
    "strike = pd.DataFrame(K*np.ones([ndays,nscen]),index=dates)\n",
    "put_hist=pd.DataFrame({'Prima':np.exp(-r*ndays)*np.fmax(sim_closes_hist-strike,np.zeros([ndays,nscen])).T.mean()},index=dates)\n",
    "put_hist.plot();"
   ]
  },
  {
   "cell_type": "code",
   "execution_count": 410,
   "id": "b70f0fa8",
   "metadata": {},
   "outputs": [
    {
     "data": {
      "image/png": "[encoded data removed]",
      "text/plain": [
       "<Figure size 432x288 with 1 Axes>"
      ]
     },
     "metadata": {
      "needs_background": "light"
     },
     "output_type": "display_data"
    }
   ],
   "source": [
    "# Definir barrera\n",
    "B = 340\n",
    "# Crear función indicadora KNOCK OUT\n",
    "I = (sim_closes > B).cumsum(axis=0)  == 0\n",
    "# Definir strike\n",
    "strike = K\n",
    "# Calcular la prima de una opción Europea\n",
    "put = pd.DataFrame({'Prima Europea':np.exp(-r*ndays)*np.fmax(strike - sim_closes_hist, 0)\n",
    "                     .mean(axis=1)},index=dates)\n",
    "# Calcular la prima de una opción barrera\n",
    "putui = pd.DataFrame({'Prima up-and-out':np.exp(-r*ndays)*(I * np.fmax(strike - sim_closes_hist, 0))\n",
    "                       .mean(axis=1)},index=dates)\n",
    "# Graficar el resultado de las dos primas previamente valuadas\n",
    "ax = putui.plot();\n",
    "put.plot(ax=ax);"
   ]
  },
  {
   "cell_type": "code",
   "execution_count": 414,
   "id": "d181ac55",
   "metadata": {},
   "outputs": [
    {
     "data": {
      "text/plain": [
       "Prima Europea    1.463\n",
       "Name: 2021-12-03 00:00:00, dtype: float64"
      ]
     },
     "execution_count": 414,
     "metadata": {},
     "output_type": "execute_result"
    }
   ],
   "source": [
    "put.iloc[-1]"
   ]
  },
  {
   "cell_type": "code",
   "execution_count": 415,
   "id": "65299b73",
   "metadata": {},
   "outputs": [
    {
     "data": {
      "text/plain": [
       "2.21"
      ]
     },
     "execution_count": 415,
     "metadata": {},
     "output_type": "execute_result"
    }
   ],
   "source": [
    "# VALOR REAL\n",
    "opt_valuar.lastPrice"
   ]
  },
  {
   "cell_type": "code",
   "execution_count": 416,
   "id": "4e93610f",
   "metadata": {},
   "outputs": [
    {
     "name": "stdout",
     "output_type": "stream",
     "text": [
      "(array([1.21528524]), array([1.71031345]))\n"
     ]
    }
   ],
   "source": [
    "# intervalo de confianza EUROPEA\n",
    "confianza = 0.95\n",
    "sigma_est = sim_closes_hist.iloc[-1].sem()\n",
    "mean_est = put.iloc[-1]\n",
    "# i1 = st.t.interval(confianza,nscen-1, loc=mean_est, scale=sigma_est)\n",
    "i2 = st.norm.interval(confianza, loc=mean_est, scale=sigma_est)\n",
    "print(i2)"
   ]
  },
  {
   "cell_type": "markdown",
   "id": "389abc64",
   "metadata": {},
   "source": [
    "**Se observa que el valor real de la opción que estoy valuando se encuentra cerca del intervalo de confianza (aunque no tanto).**"
   ]
  },
  {
   "cell_type": "code",
   "execution_count": 417,
   "id": "aaa3b5ad",
   "metadata": {},
   "outputs": [
    {
     "data": {
      "text/plain": [
       "Prima up-and-out    1.014\n",
       "Name: 2021-12-03 00:00:00, dtype: float64"
      ]
     },
     "execution_count": 417,
     "metadata": {},
     "output_type": "execute_result"
    }
   ],
   "source": [
    "putui.iloc[-1]"
   ]
  },
  {
   "cell_type": "code",
   "execution_count": 418,
   "id": "faaaec8d",
   "metadata": {},
   "outputs": [
    {
     "name": "stdout",
     "output_type": "stream",
     "text": [
      "(array([0.76647309]), array([1.2615013]))\n"
     ]
    }
   ],
   "source": [
    "# intervalo de confianza EUROPEA\n",
    "confianza = 0.95\n",
    "sigma_est = sim_closes_hist.iloc[-1].sem()\n",
    "mean_est = putui.iloc[-1]\n",
    "# i1 = st.t.interval(confianza,nscen-1, loc=mean_est, scale=sigma_est)\n",
    "i2 = st.norm.interval(confianza, loc=mean_est, scale=sigma_est)\n",
    "print(i2)"
   ]
  },
  {
   "cell_type": "markdown",
   "id": "897dd0dd",
   "metadata": {},
   "source": [
    "**Se observa que el valor real de la opción que estoy valuando se encuentra cerca del intervalo de confianza (aunque no tanto).**\n",
    "\n",
    "Además, se observa que la prima de la opción barrera es más barata que la prima de una opción europea. \n",
    "\n",
    "Por último, comparando los dos métodos, se observa que el de **rendimientos normales** estuvo un poco más cerca del valor real que el método de histograma, aunque ambos métodos cumplen con un intervalo de confianza muy bueno.\n",
    "\n",
    "\n",
    "----"
   ]
  },
  {
   "cell_type": "markdown",
   "id": "0743de2e",
   "metadata": {},
   "source": [
    "#### Código de solución `ESTUDIANTE 2: Esteban Márquez`"
   ]
  },
  {
   "cell_type": "code",
   "execution_count": null,
   "id": "eff5ac08",
   "metadata": {},
   "outputs": [],
   "source": []
  },
  {
   "cell_type": "code",
   "execution_count": null,
   "id": "0b6b5ba0",
   "metadata": {},
   "outputs": [],
   "source": []
  },
  {
   "cell_type": "code",
   "execution_count": null,
   "id": "f1853c63",
   "metadata": {},
   "outputs": [],
   "source": []
  },
  {
   "cell_type": "code",
   "execution_count": null,
   "id": "bb932339",
   "metadata": {},
   "outputs": [],
   "source": []
  }
 ],
 "metadata": {
  "kernelspec": {
   "display_name": "Python 3",
   "language": "python",
   "name": "python3"
  },
  "language_info": {
   "codemirror_mode": {
    "name": "ipython",
    "version": 3
   },
   "file_extension": ".py",
   "mimetype": "text/x-python",
   "name": "python",
   "nbconvert_exporter": "python",
   "pygments_lexer": "ipython3",
   "version": "3.8.8"
  }
 },
 "nbformat": 4,
 "nbformat_minor": 5
}
